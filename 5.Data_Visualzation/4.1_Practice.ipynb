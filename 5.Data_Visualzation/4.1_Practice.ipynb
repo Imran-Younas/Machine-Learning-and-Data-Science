{
 "cells": [
  {
   "cell_type": "code",
   "execution_count": 1,
   "id": "08c8a914",
   "metadata": {},
   "outputs": [],
   "source": [
    "import numpy as np\n",
    "import matplotlib.pyplot as plt\n",
    "import pandas as pd\n",
    "import seaborn as sns\n"
   ]
  },
  {
   "cell_type": "code",
   "execution_count": 2,
   "id": "844a90f0",
   "metadata": {},
   "outputs": [],
   "source": [
    "df1 = pd.read_csv('/home/emmo/Desktop/Data_Visual/top-500-movies.csv')"
   ]
  },
  {
   "cell_type": "code",
   "execution_count": 3,
   "id": "ccce3774",
   "metadata": {},
   "outputs": [
    {
     "data": {
      "text/plain": [
       "(500, 13)"
      ]
     },
     "execution_count": 3,
     "metadata": {},
     "output_type": "execute_result"
    }
   ],
   "source": [
    "df1.shape"
   ]
  },
  {
   "cell_type": "code",
   "execution_count": 4,
   "id": "b28196bd",
   "metadata": {},
   "outputs": [
    {
     "data": {
      "text/plain": [
       "rank                0\n",
       "release_date        1\n",
       "title               0\n",
       "url                 0\n",
       "production_cost     0\n",
       "domestic_gross      0\n",
       "worldwide_gross     0\n",
       "opening_weekend    21\n",
       "mpaa                8\n",
       "genre               5\n",
       "theaters           21\n",
       "runtime            13\n",
       "year                1\n",
       "dtype: int64"
      ]
     },
     "execution_count": 4,
     "metadata": {},
     "output_type": "execute_result"
    }
   ],
   "source": [
    "df1.isnull().sum()"
   ]
  },
  {
   "cell_type": "code",
   "execution_count": 5,
   "id": "c0af8358",
   "metadata": {},
   "outputs": [
    {
     "data": {
      "text/plain": [
       "<AxesSubplot:>"
      ]
     },
     "execution_count": 5,
     "metadata": {},
     "output_type": "execute_result"
    },
    {
     "data": {
      "image/png": "[encoded data removed]",
      "text/plain": [
       "<Figure size 432x288 with 2 Axes>"
      ]
     },
     "metadata": {
      "needs_background": "light"
     },
     "output_type": "display_data"
    }
   ],
   "source": [
    "sns.heatmap(df1.isnull())"
   ]
  },
  {
   "cell_type": "code",
   "execution_count": 6,
   "id": "82c9de87",
   "metadata": {},
   "outputs": [],
   "source": [
    "perce = (df1.isnull().sum() / df1.shape[0]) * 100"
   ]
  },
  {
   "cell_type": "code",
   "execution_count": 7,
   "id": "6a3a6733",
   "metadata": {},
   "outputs": [
    {
     "data": {
      "text/html": [
       "<div>\n",
       "<style scoped>\n",
       "    .dataframe tbody tr th:only-of-type {\n",
       "        vertical-align: middle;\n",
       "    }\n",
       "\n",
       "    .dataframe tbody tr th {\n",
       "        vertical-align: top;\n",
       "    }\n",
       "\n",
       "    .dataframe thead th {\n",
       "        text-align: right;\n",
       "    }\n",
       "</style>\n",
       "<table border=\"1\" class=\"dataframe\">\n",
       "  <thead>\n",
       "    <tr style=\"text-align: right;\">\n",
       "      <th></th>\n",
       "      <th>release_date</th>\n",
       "      <th>title</th>\n",
       "      <th>url</th>\n",
       "      <th>mpaa</th>\n",
       "      <th>genre</th>\n",
       "    </tr>\n",
       "  </thead>\n",
       "  <tbody>\n",
       "    <tr>\n",
       "      <th>0</th>\n",
       "      <td>2019-04-23</td>\n",
       "      <td>Avengers: Endgame</td>\n",
       "      <td>/movie/Avengers-Endgame-(2019)#tab=summary</td>\n",
       "      <td>PG-13</td>\n",
       "      <td>Action</td>\n",
       "    </tr>\n",
       "    <tr>\n",
       "      <th>1</th>\n",
       "      <td>2011-05-20</td>\n",
       "      <td>Pirates of the Caribbean: On Stranger Tides</td>\n",
       "      <td>/movie/Pirates-of-the-Caribbean-On-Stranger-Ti...</td>\n",
       "      <td>PG-13</td>\n",
       "      <td>Adventure</td>\n",
       "    </tr>\n",
       "    <tr>\n",
       "      <th>2</th>\n",
       "      <td>2015-04-22</td>\n",
       "      <td>Avengers: Age of Ultron</td>\n",
       "      <td>/movie/Avengers-Age-of-Ultron#tab=summary</td>\n",
       "      <td>PG-13</td>\n",
       "      <td>Action</td>\n",
       "    </tr>\n",
       "    <tr>\n",
       "      <th>3</th>\n",
       "      <td>2015-12-16</td>\n",
       "      <td>Star Wars Ep. VII: The Force Awakens</td>\n",
       "      <td>/movie/Star-Wars-Ep-VII-The-Force-Awakens#tab=...</td>\n",
       "      <td>PG-13</td>\n",
       "      <td>Adventure</td>\n",
       "    </tr>\n",
       "    <tr>\n",
       "      <th>4</th>\n",
       "      <td>2018-04-25</td>\n",
       "      <td>Avengers: Infinity War</td>\n",
       "      <td>/movie/Avengers-Infinity-War#tab=summary</td>\n",
       "      <td>PG-13</td>\n",
       "      <td>Action</td>\n",
       "    </tr>\n",
       "    <tr>\n",
       "      <th>...</th>\n",
       "      <td>...</td>\n",
       "      <td>...</td>\n",
       "      <td>...</td>\n",
       "      <td>...</td>\n",
       "      <td>...</td>\n",
       "    </tr>\n",
       "    <tr>\n",
       "      <th>495</th>\n",
       "      <td>2013-02-06</td>\n",
       "      <td>A Good Day to Die Hard</td>\n",
       "      <td>/movie/Die-Hard-5#tab=summary</td>\n",
       "      <td>R</td>\n",
       "      <td>Action</td>\n",
       "    </tr>\n",
       "    <tr>\n",
       "      <th>496</th>\n",
       "      <td>2004-04-09</td>\n",
       "      <td>The Alamo</td>\n",
       "      <td>/movie/Alamo-The-(2004)#tab=summary</td>\n",
       "      <td>PG-13</td>\n",
       "      <td>Western</td>\n",
       "    </tr>\n",
       "    <tr>\n",
       "      <th>497</th>\n",
       "      <td>1995-12-22</td>\n",
       "      <td>Cutthroat Island</td>\n",
       "      <td>/movie/Cutthroat-Island#tab=summary</td>\n",
       "      <td>PG-13</td>\n",
       "      <td>Adventure</td>\n",
       "    </tr>\n",
       "    <tr>\n",
       "      <th>498</th>\n",
       "      <td>2013-12-19</td>\n",
       "      <td>The Secret Life of Walter Mitty</td>\n",
       "      <td>/movie/Secret-Life-of-Walter-Mitty-The-(2012)#...</td>\n",
       "      <td>PG</td>\n",
       "      <td>Adventure</td>\n",
       "    </tr>\n",
       "    <tr>\n",
       "      <th>499</th>\n",
       "      <td>2023-03-09</td>\n",
       "      <td>65</td>\n",
       "      <td>/movie/65-(2022)#tab=summary</td>\n",
       "      <td>NaN</td>\n",
       "      <td>Thriller/Suspense</td>\n",
       "    </tr>\n",
       "  </tbody>\n",
       "</table>\n",
       "<p>500 rows × 5 columns</p>\n",
       "</div>"
      ],
      "text/plain": [
       "    release_date                                        title  \\\n",
       "0     2019-04-23                            Avengers: Endgame   \n",
       "1     2011-05-20  Pirates of the Caribbean: On Stranger Tides   \n",
       "2     2015-04-22                      Avengers: Age of Ultron   \n",
       "3     2015-12-16         Star Wars Ep. VII: The Force Awakens   \n",
       "4     2018-04-25                       Avengers: Infinity War   \n",
       "..           ...                                          ...   \n",
       "495   2013-02-06                       A Good Day to Die Hard   \n",
       "496   2004-04-09                                    The Alamo   \n",
       "497   1995-12-22                             Cutthroat Island   \n",
       "498   2013-12-19              The Secret Life of Walter Mitty   \n",
       "499   2023-03-09                                           65   \n",
       "\n",
       "                                                   url   mpaa  \\\n",
       "0           /movie/Avengers-Endgame-(2019)#tab=summary  PG-13   \n",
       "1    /movie/Pirates-of-the-Caribbean-On-Stranger-Ti...  PG-13   \n",
       "2            /movie/Avengers-Age-of-Ultron#tab=summary  PG-13   \n",
       "3    /movie/Star-Wars-Ep-VII-The-Force-Awakens#tab=...  PG-13   \n",
       "4             /movie/Avengers-Infinity-War#tab=summary  PG-13   \n",
       "..                                                 ...    ...   \n",
       "495                      /movie/Die-Hard-5#tab=summary      R   \n",
       "496                /movie/Alamo-The-(2004)#tab=summary  PG-13   \n",
       "497                /movie/Cutthroat-Island#tab=summary  PG-13   \n",
       "498  /movie/Secret-Life-of-Walter-Mitty-The-(2012)#...     PG   \n",
       "499                       /movie/65-(2022)#tab=summary    NaN   \n",
       "\n",
       "                 genre  \n",
       "0               Action  \n",
       "1            Adventure  \n",
       "2               Action  \n",
       "3            Adventure  \n",
       "4               Action  \n",
       "..                 ...  \n",
       "495             Action  \n",
       "496            Western  \n",
       "497          Adventure  \n",
       "498          Adventure  \n",
       "499  Thriller/Suspense  \n",
       "\n",
       "[500 rows x 5 columns]"
      ]
     },
     "execution_count": 7,
     "metadata": {},
     "output_type": "execute_result"
    }
   ],
   "source": [
    "df2_ob = df1.select_dtypes(include = ['object'])\n",
    "df2_ob"
   ]
  },
  {
   "cell_type": "code",
   "execution_count": 8,
   "id": "166747ec",
   "metadata": {},
   "outputs": [
    {
     "data": {
      "text/plain": [
       "release_date    0.2\n",
       "title           0.0\n",
       "url             0.0\n",
       "mpaa            1.6\n",
       "genre           1.0\n",
       "dtype: float64"
      ]
     },
     "execution_count": 8,
     "metadata": {},
     "output_type": "execute_result"
    }
   ],
   "source": [
    "df2_per = (df2_ob.isnull().sum() / df2_ob.shape[0]) * 100\n",
    "df2_per"
   ]
  },
  {
   "cell_type": "code",
   "execution_count": 9,
   "id": "c3e8efc7",
   "metadata": {},
   "outputs": [
    {
     "data": {
      "text/plain": [
       "Index(['release_date', 'mpaa', 'genre'], dtype='object')"
      ]
     },
     "execution_count": 9,
     "metadata": {},
     "output_type": "execute_result"
    }
   ],
   "source": [
    "df2_ob_nn_val = df2_per[df2_per > 0].keys()\n",
    "df2_ob_nn_val"
   ]
  },
  {
   "cell_type": "code",
   "execution_count": 10,
   "id": "c30fdd38",
   "metadata": {},
   "outputs": [],
   "source": [
    "for var in df2_ob_nn_val:\n",
    "    cat_fill = df1[var].fillna(df1[var].mode())\n",
    "    df1.update(cat_fill)"
   ]
  },
  {
   "cell_type": "code",
   "execution_count": 11,
   "id": "ed418d5d",
   "metadata": {},
   "outputs": [
    {
     "data": {
      "text/plain": [
       "70"
      ]
     },
     "execution_count": 11,
     "metadata": {},
     "output_type": "execute_result"
    }
   ],
   "source": [
    "df1.isnull().sum().sum()"
   ]
  },
  {
   "cell_type": "code",
   "execution_count": null,
   "id": "32325d25",
   "metadata": {},
   "outputs": [],
   "source": []
  }
 ],
 "metadata": {
  "kernelspec": {
   "display_name": "Python 3 (ipykernel)",
   "language": "python",
   "name": "python3"
  },
  "language_info": {
   "codemirror_mode": {
    "name": "ipython",
    "version": 3
   },
   "file_extension": ".py",
   "mimetype": "text/x-python",
   "name": "python",
   "nbconvert_exporter": "python",
   "pygments_lexer": "ipython3",
   "version": "3.9.12"
  }
 },
 "nbformat": 4,
 "nbformat_minor": 5
}
